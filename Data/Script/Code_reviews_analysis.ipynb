{
 "cells": [
  {
   "cell_type": "code",
   "execution_count": 1,
   "metadata": {
    "colab": {
     "base_uri": "https://localhost:8080/"
    },
    "executionInfo": {
     "elapsed": 5206,
     "status": "ok",
     "timestamp": 1627602563114,
     "user": {
      "displayName": "Moataz Chouchen",
      "photoUrl": "",
      "userId": "00878627948477399192"
     },
     "user_tz": -60
    },
    "id": "aIgNit9cEjSS",
    "outputId": "da6b8ffb-e28a-411d-fe67-717583cbd7a3"
   },
   "outputs": [
    {
     "name": "stdout",
     "output_type": "stream",
     "text": [
      "Collecting pydriller==1.15\n",
      "  Using cached PyDriller-1.15-py3-none-any.whl (62 kB)\n",
      "Requirement already satisfied: gitpython in c:\\programdata\\anaconda3\\lib\\site-packages (from pydriller==1.15) (3.1.18)\n",
      "Requirement already satisfied: pytz in c:\\programdata\\anaconda3\\lib\\site-packages (from pydriller==1.15) (2019.3)\n",
      "Requirement already satisfied: lizard in c:\\programdata\\anaconda3\\lib\\site-packages (from pydriller==1.15) (1.17.9)\n",
      "Requirement already satisfied: gitdb<5,>=4.0.1 in c:\\programdata\\anaconda3\\lib\\site-packages (from gitpython->pydriller==1.15) (4.0.7)\n",
      "Requirement already satisfied: typing-extensions>=3.7.4.0; python_version < \"3.8\" in c:\\programdata\\anaconda3\\lib\\site-packages (from gitpython->pydriller==1.15) (3.10.0.0)\n",
      "Requirement already satisfied: smmap<5,>=3.0.1 in c:\\programdata\\anaconda3\\lib\\site-packages (from gitdb<5,>=4.0.1->gitpython->pydriller==1.15) (4.0.0)\n",
      "Installing collected packages: pydriller\n",
      "  Attempting uninstall: pydriller\n",
      "    Found existing installation: PyDriller 2.0\n",
      "    Uninstalling PyDriller-2.0:\n",
      "      Successfully uninstalled PyDriller-2.0\n",
      "Successfully installed pydriller-1.15\n"
     ]
    }
   ],
   "source": [
    "#installing py\n",
    "!pip install pydriller==1.15"
   ]
  },
  {
   "cell_type": "code",
   "execution_count": 2,
   "metadata": {
    "colab": {
     "base_uri": "https://localhost:8080/"
    },
    "executionInfo": {
     "elapsed": 10172,
     "status": "ok",
     "timestamp": 1627602573278,
     "user": {
      "displayName": "Moataz Chouchen",
      "photoUrl": "",
      "userId": "00878627948477399192"
     },
     "user_tz": -60
    },
    "id": "BDDXoM6htnWd",
    "outputId": "89a490a5-d85e-4aaf-d6f8-6ac759cf0ad0"
   },
   "outputs": [
    {
     "name": "stderr",
     "output_type": "stream",
     "text": [
      "[nltk_data] Downloading collection 'popular'\n",
      "[nltk_data]    | \n",
      "[nltk_data]    | Downloading package cmudict to\n",
      "[nltk_data]    |     C:\\Users\\AQ38570\\AppData\\Roaming\\nltk_data...\n",
      "[nltk_data]    |   Package cmudict is already up-to-date!\n",
      "[nltk_data]    | Downloading package gazetteers to\n",
      "[nltk_data]    |     C:\\Users\\AQ38570\\AppData\\Roaming\\nltk_data...\n",
      "[nltk_data]    |   Package gazetteers is already up-to-date!\n",
      "[nltk_data]    | Downloading package genesis to\n",
      "[nltk_data]    |     C:\\Users\\AQ38570\\AppData\\Roaming\\nltk_data...\n",
      "[nltk_data]    |   Package genesis is already up-to-date!\n",
      "[nltk_data]    | Downloading package gutenberg to\n",
      "[nltk_data]    |     C:\\Users\\AQ38570\\AppData\\Roaming\\nltk_data...\n",
      "[nltk_data]    |   Package gutenberg is already up-to-date!\n",
      "[nltk_data]    | Downloading package inaugural to\n",
      "[nltk_data]    |     C:\\Users\\AQ38570\\AppData\\Roaming\\nltk_data...\n",
      "[nltk_data]    |   Package inaugural is already up-to-date!\n",
      "[nltk_data]    | Downloading package movie_reviews to\n",
      "[nltk_data]    |     C:\\Users\\AQ38570\\AppData\\Roaming\\nltk_data...\n",
      "[nltk_data]    |   Package movie_reviews is already up-to-date!\n",
      "[nltk_data]    | Downloading package names to\n",
      "[nltk_data]    |     C:\\Users\\AQ38570\\AppData\\Roaming\\nltk_data...\n",
      "[nltk_data]    |   Package names is already up-to-date!\n",
      "[nltk_data]    | Downloading package shakespeare to\n",
      "[nltk_data]    |     C:\\Users\\AQ38570\\AppData\\Roaming\\nltk_data...\n",
      "[nltk_data]    |   Package shakespeare is already up-to-date!\n",
      "[nltk_data]    | Downloading package stopwords to\n",
      "[nltk_data]    |     C:\\Users\\AQ38570\\AppData\\Roaming\\nltk_data...\n",
      "[nltk_data]    |   Unzipping corpora\\stopwords.zip.\n",
      "[nltk_data]    | Downloading package treebank to\n",
      "[nltk_data]    |     C:\\Users\\AQ38570\\AppData\\Roaming\\nltk_data...\n",
      "[nltk_data]    |   Package treebank is already up-to-date!\n",
      "[nltk_data]    | Downloading package twitter_samples to\n",
      "[nltk_data]    |     C:\\Users\\AQ38570\\AppData\\Roaming\\nltk_data...\n",
      "[nltk_data]    |   Package twitter_samples is already up-to-date!\n",
      "[nltk_data]    | Downloading package omw to\n",
      "[nltk_data]    |     C:\\Users\\AQ38570\\AppData\\Roaming\\nltk_data...\n",
      "[nltk_data]    |   Package omw is already up-to-date!\n",
      "[nltk_data]    | Downloading package wordnet to\n",
      "[nltk_data]    |     C:\\Users\\AQ38570\\AppData\\Roaming\\nltk_data...\n",
      "[nltk_data]    |   Package wordnet is already up-to-date!\n",
      "[nltk_data]    | Downloading package wordnet31 to\n",
      "[nltk_data]    |     C:\\Users\\AQ38570\\AppData\\Roaming\\nltk_data...\n",
      "[nltk_data]    |   Unzipping corpora\\wordnet31.zip.\n",
      "[nltk_data]    | Downloading package wordnet_ic to\n",
      "[nltk_data]    |     C:\\Users\\AQ38570\\AppData\\Roaming\\nltk_data...\n",
      "[nltk_data]    |   Package wordnet_ic is already up-to-date!\n",
      "[nltk_data]    | Downloading package words to\n",
      "[nltk_data]    |     C:\\Users\\AQ38570\\AppData\\Roaming\\nltk_data...\n",
      "[nltk_data]    |   Package words is already up-to-date!\n",
      "[nltk_data]    | Downloading package maxent_ne_chunker to\n",
      "[nltk_data]    |     C:\\Users\\AQ38570\\AppData\\Roaming\\nltk_data...\n",
      "[nltk_data]    |   Package maxent_ne_chunker is already up-to-date!\n",
      "[nltk_data]    | Downloading package punkt to\n",
      "[nltk_data]    |     C:\\Users\\AQ38570\\AppData\\Roaming\\nltk_data...\n",
      "[nltk_data]    |   Package punkt is already up-to-date!\n",
      "[nltk_data]    | Downloading package snowball_data to\n",
      "[nltk_data]    |     C:\\Users\\AQ38570\\AppData\\Roaming\\nltk_data...\n",
      "[nltk_data]    |   Package snowball_data is already up-to-date!\n",
      "[nltk_data]    | Downloading package averaged_perceptron_tagger to\n",
      "[nltk_data]    |     C:\\Users\\AQ38570\\AppData\\Roaming\\nltk_data...\n",
      "[nltk_data]    |   Package averaged_perceptron_tagger is already up-\n",
      "[nltk_data]    |       to-date!\n",
      "[nltk_data]    | \n",
      "[nltk_data]  Done downloading collection popular\n"
     ]
    },
    {
     "data": {
      "text/plain": [
       "True"
      ]
     },
     "execution_count": 2,
     "metadata": {},
     "output_type": "execute_result"
    }
   ],
   "source": [
    "#installing NLTK for text analysis\n",
    "import nltk\n",
    "nltk.download('popular')"
   ]
  },
  {
   "cell_type": "code",
   "execution_count": 13,
   "metadata": {
    "executionInfo": {
     "elapsed": 172,
     "status": "ok",
     "timestamp": 1627602573438,
     "user": {
      "displayName": "Moataz Chouchen",
      "photoUrl": "",
      "userId": "00878627948477399192"
     },
     "user_tz": -60
    },
    "id": "lCf5uaLORHw2"
   },
   "outputs": [],
   "source": [
    "#imports\n",
    "import pandas as pd\n",
    "import json\n",
    "import os\n",
    "from pydriller import RepositoryMining\n",
    "from nltk import word_tokenize\n",
    "from datetime import datetime\n",
    "import pprint\n",
    "from multiprocessing import Pool\n",
    "from code_review_miner import compute_statistics\n",
    "from sqlalchemy import create_engine"
   ]
  },
  {
   "cell_type": "code",
   "execution_count": 4,
   "metadata": {
    "executionInfo": {
     "elapsed": 13,
     "status": "ok",
     "timestamp": 1627602573441,
     "user": {
      "displayName": "Moataz Chouchen",
      "photoUrl": "",
      "userId": "00878627948477399192"
     },
     "user_tz": -60
    },
    "id": "V5eddAZMTGXN"
   },
   "outputs": [],
   "source": [
    "#globals\n",
    "DATA_PATH = 'C:/Users/AQ38570/Desktop/work/code review and refactoring/data'\n",
    "NB_PRCOCESS = 10\n",
    "#change to QT for QT project \n",
    "PROJECT = 'Openstack'\n",
    "#change for 'https://codereview.qt-project.org' when \n",
    "URL = 'https://review.opendev.org'\n",
    "#change to 'sqlite:///QT_results.db' for QT\n",
    "DATABASE_URI = 'sqlite:///Openstack_results.db'\n",
    "#change to 'QT_results' for QT\n",
    "SQLITE_TABLE = \"Openstack_results\"\n",
    "#Change to QT_results.csv for QT\n",
    "CSV_FILENAME = 'Openstack_results.csv'\n",
    "KEYWORDS = {\n",
    "    'refactoring' : ['refactor']\n",
    "}\n",
    "STATUS = ['abandoned-changes','merged-changes']\n",
    "all_results = []"
   ]
  },
  {
   "cell_type": "code",
   "execution_count": 5,
   "metadata": {},
   "outputs": [],
   "source": [
    "def chunks(lst, n):\n",
    "    \"\"\"Yield successive n-sized chunks from lst.\"\"\"\n",
    "    for i in range(0, len(lst), n):\n",
    "        yield lst[i:i + n]\n",
    "\n",
    "\n",
    "with Pool(NB_PRCOCESS) as p:\n",
    "    for status in STATUS : \n",
    "        current_data_path = os.path.join(DATA_PATH,PROJECT,'raw data','review data',status)\n",
    "        files_lists = chunks(os.listdir(current_data_path),NB_PRCOCESS)\n",
    "        arguments = [(PROJECT,URL,[status],KEYWORDS,{status : files}) for files in files_lists]\n",
    "        all_results += p.starmap(compute_statistics,arguments)\n",
    "        "
   ]
  },
  {
   "cell_type": "code",
   "execution_count": 6,
   "metadata": {
    "colab": {
     "base_uri": "https://localhost:8080/",
     "height": 172
    },
    "executionInfo": {
     "elapsed": 1211,
     "status": "error",
     "timestamp": 1627602453213,
     "user": {
      "displayName": "Moataz Chouchen",
      "photoUrl": "",
      "userId": "00878627948477399192"
     },
     "user_tz": -60
    },
    "id": "e_S9UB7vnjSm",
    "outputId": "709cf87e-b5a7-4764-adb9-7f0f2e21177a"
   },
   "outputs": [],
   "source": [
    "subject_refactor_count = 0 \n",
    "desc_refactor_count = 0\n",
    "global_count = 0 \n",
    "rows = []\n",
    "for result in all_results : \n",
    "    subject_refactor_count += result[1]['refactoring']['refactor']\n",
    "    desc_refactor_count += result[2]['refactoring']['refactor']\n",
    "    global_count +=result[3]\n",
    "    rows += result[0]"
   ]
  },
  {
   "cell_type": "code",
   "execution_count": 15,
   "metadata": {},
   "outputs": [],
   "source": [
    "df = pd.DataFrame(rows)"
   ]
  },
  {
   "cell_type": "code",
   "execution_count": 16,
   "metadata": {
    "id": "5nI7C1ylrRcn"
   },
   "outputs": [],
   "source": [
    "#writing results to .csv\n",
    "df.to_csv(CSV_FILENAME,index=False)"
   ]
  },
  {
   "cell_type": "code",
   "execution_count": 17,
   "metadata": {},
   "outputs": [
    {
     "name": "stdout",
     "output_type": "stream",
     "text": [
      "2021-11-30 13:04:27,932 INFO sqlalchemy.engine.base.Engine SELECT CAST('test plain returns' AS VARCHAR(60)) AS anon_1\n",
      "2021-11-30 13:04:27,932 INFO sqlalchemy.engine.base.Engine ()\n",
      "2021-11-30 13:04:27,933 INFO sqlalchemy.engine.base.Engine SELECT CAST('test unicode returns' AS VARCHAR(60)) AS anon_1\n",
      "2021-11-30 13:04:27,933 INFO sqlalchemy.engine.base.Engine ()\n",
      "2021-11-30 13:04:28,465 INFO sqlalchemy.engine.base.Engine PRAGMA main.table_info(\"Openstack_results\")\n",
      "2021-11-30 13:04:28,466 INFO sqlalchemy.engine.base.Engine ()\n",
      "2021-11-30 13:04:28,467 INFO sqlalchemy.engine.base.Engine PRAGMA temp.table_info(\"Openstack_results\")\n",
      "2021-11-30 13:04:28,467 INFO sqlalchemy.engine.base.Engine ()\n",
      "2021-11-30 13:04:28,469 INFO sqlalchemy.engine.base.Engine \n",
      "CREATE TABLE \"Openstack_results\" (\n",
      "\t\"index\" BIGINT, \n",
      "\tid TEXT, \n",
      "\turl TEXT, \n",
      "\tbranch TEXT, \n",
      "\t\"#reviewers\" BIGINT, \n",
      "\t\"#messages\" BIGINT, \n",
      "\t\"#inline_comments\" BIGINT, \n",
      "\t\"#unsolved_inline_comments\" BIGINT, \n",
      "\tlen_messages BIGINT, \n",
      "\tchurn BIGINT, \n",
      "\t\"#revisions\" BIGINT, \n",
      "\t\"#files\" BIGINT, \n",
      "\tduration FLOAT, \n",
      "\tlen_description BIGINT, \n",
      "\t\"subject categories\" TEXT, \n",
      "\t\"subject keywords\" TEXT, \n",
      "\t\"description categories\" TEXT, \n",
      "\t\"description keywords\" TEXT, \n",
      "\tsubject TEXT, \n",
      "\tdescription TEXT\n",
      ")\n",
      "\n",
      "\n",
      "2021-11-30 13:04:28,470 INFO sqlalchemy.engine.base.Engine ()\n",
      "2021-11-30 13:04:29,133 INFO sqlalchemy.engine.base.Engine COMMIT\n",
      "2021-11-30 13:04:29,134 INFO sqlalchemy.engine.base.Engine CREATE INDEX \"ix_Openstack_results_index\" ON \"Openstack_results\" (\"index\")\n",
      "2021-11-30 13:04:29,134 INFO sqlalchemy.engine.base.Engine ()\n",
      "2021-11-30 13:04:29,566 INFO sqlalchemy.engine.base.Engine COMMIT\n",
      "2021-11-30 13:04:30,138 INFO sqlalchemy.engine.base.Engine BEGIN (implicit)\n",
      "2021-11-30 13:04:41,837 INFO sqlalchemy.engine.base.Engine INSERT INTO \"Openstack_results\" (\"index\", id, url, branch, \"#reviewers\", \"#messages\", \"#inline_comments\", \"#unsolved_inline_comments\", len_messages, churn, \"#revisions\", \"#files\", duration, len_description, \"subject categories\", \"subject keywords\", \"description categories\", \"description keywords\", subject, description) VALUES (?, ?, ?, ?, ?, ?, ?, ?, ?, ?, ?, ?, ?, ?, ?, ?, ?, ?, ?, ?)\n",
      "2021-11-30 13:04:41,863 INFO sqlalchemy.engine.base.Engine ((0, 'starlingx%2Fmeta-starlingx~master~I42a937f479933c6db8f589b27e10d8c7c9cdd275', 'https://review.opendev.org/795249', 'master', 1, 3, 0, 0, 219, 105, 2, 3, 163.0675, 361, '', '', '', '', 'puppet-oslo: update for stx 5.0', 'puppet-oslo: update for stx 5.0  * fetch the updated stx 5.0 patches from StarlingX   git repo instead of maintaining a local copy  * inherit stx-pat ... (63 characters truncated) ... tx patches  Story: 2008952 Task: 42576  Signed-off-by: Jackie Huang <jackie.huang@windriver.com> Change-Id: I42a937f479933c6db8f589b27e10d8c7c9cdd275'), (1, 'starlingx%2Fmeta-starlingx~master~I9de731a154eb362898f6424ac7b3fc620de87d9f', 'https://review.opendev.org/795248', 'master', 1, 3, 0, 0, 219, 52, 2, 2, 163.06333333333333, 367, '', '', '', '', 'puppetlabs-stdlib: update for stx 5.0', 'puppetlabs-stdlib: update for stx 5.0  * fetch the updated stx 5.0 patches from StarlingX   git repo instead of maintaining a local copy  * inherit s ... (69 characters truncated) ... tx patches  Story: 2008952 Task: 42576  Signed-off-by: Jackie Huang <jackie.huang@windriver.com> Change-Id: I9de731a154eb362898f6424ac7b3fc620de87d9f'), (2, 'starlingx%2Fmeta-starlingx~master~I1ff4fb3c55791d804266c5068a0e6e2454e15f4e', 'https://review.opendev.org/795247', 'master', 1, 3, 0, 0, 219, 318, 2, 5, 163.05777777777777, 369, '', '', '', '', 'puppetlabs-rabbitmq: update for stx 5.0', 'puppetlabs-rabbitmq: update for stx 5.0  * fetch the updated stx 5.0 patches from StarlingX   git repo instead of maintaining a local copy  * inherit ... (71 characters truncated) ... tx patches  Story: 2008952 Task: 42576  Signed-off-by: Jackie Huang <jackie.huang@windriver.com> Change-Id: I1ff4fb3c55791d804266c5068a0e6e2454e15f4e'), (3, 'starlingx%2Fmeta-starlingx~master~I070de81feca10956a0847677175971f8e034ac58', 'https://review.opendev.org/795246', 'master', 1, 3, 0, 0, 219, 129, 2, 3, 163.0536111111111, 371, '', '', '', '', 'puppetlabs-postgresql: update for stx 5.0', 'puppetlabs-postgresql: update for stx 5.0  * fetch the updated stx 5.0 patches from StarlingX   git repo instead of maintaining a local copy  * inher ... (73 characters truncated) ... tx patches  Story: 2008952 Task: 42576  Signed-off-by: Jackie Huang <jackie.huang@windriver.com> Change-Id: I070de81feca10956a0847677175971f8e034ac58'), (4, 'starlingx%2Fmeta-starlingx~master~I55506b94fc054170ae218d5236fdbfb28feb36d5', 'https://review.opendev.org/795245', 'master', 1, 3, 0, 0, 219, 868, 2, 6, 163.04916666666668, 364, '', '', '', '', 'puppetlabs-lvm: update for stx 5.0', 'puppetlabs-lvm: update for stx 5.0  * fetch the updated stx 5.0 patches from StarlingX   git repo instead of maintaining a local copy  * inherit stx- ... (66 characters truncated) ... tx patches  Story: 2008952 Task: 42576  Signed-off-by: Jackie Huang <jackie.huang@windriver.com> Change-Id: I55506b94fc054170ae218d5236fdbfb28feb36d5'), (5, 'starlingx%2Fmeta-starlingx~master~I0a30d7da3d6c51a07e7fa83fb91446d4e1ed28d4', 'https://review.opendev.org/795244', 'master', 1, 3, 0, 0, 219, 245, 2, 5, 163.04111111111112, 368, '', '', '', '', 'puppetlabs-haproxy: update for stx 5.0', 'puppetlabs-haproxy: update for stx 5.0  * fetch the updated stx 5.0 patches from StarlingX   git repo instead of maintaining a local copy  * inherit  ... (70 characters truncated) ... tx patches  Story: 2008952 Task: 42576  Signed-off-by: Jackie Huang <jackie.huang@windriver.com> Change-Id: I0a30d7da3d6c51a07e7fa83fb91446d4e1ed28d4'), (6, 'starlingx%2Fmeta-starlingx~master~I2a6480136508907d0a770ab5c854c7dc1f7d664b', 'https://review.opendev.org/795243', 'master', 1, 3, 0, 0, 219, 299, 2, 5, 163.01583333333335, 364, '', '', '', '', 'puppet-dnsmasq: update for stx 5.0', 'puppet-dnsmasq: update for stx 5.0  * fetch the updated stx 5.0 patches from StarlingX   git repo instead of maintaining a local copy  * inherit stx- ... (66 characters truncated) ... tx patches  Story: 2008952 Task: 42576  Signed-off-by: Jackie Huang <jackie.huang@windriver.com> Change-Id: I2a6480136508907d0a770ab5c854c7dc1f7d664b'), (7, 'starlingx%2Fmeta-starlingx~master~Iddfdfe6f1f15f3be34c2bdafa461753889cd5016', 'https://review.opendev.org/795242', 'master', 1, 3, 0, 0, 219, 648, 2, 10, 163.01111111111112, 510, '', '', '', '', 'puppet-ceph: update for stx 5.0', \"puppet-ceph: update for stx 5.0  * fetch the updated stx 5.0 patches from StarlingX   git repo instead of maintaining a local copy  * inherit stx-pat ... (212 characters truncated) ... s rebased.  Story: 2008952 Task: 42576  Signed-off-by: Jackie Huang <jackie.huang@windriver.com> Change-Id: Iddfdfe6f1f15f3be34c2bdafa461753889cd5016\")  ... displaying 10 of 775657 total bound parameter sets ...  (775655, 'openstack%2Fopenstacksdk~master~I64f29ade2da4740434f0812e8e514f0752510c71', 'https://review.opendev.org/672573', 'master', 2, 3, 0, 0, 84, 56, 1, 2, 3.0433333333333334, 297, '', '', 'refactoring/', 'refactor|', 'Fix image deletion with tasks_api enabled', 'Fix image deletion with tasks_api enabled  During image refactor some constants wandered into proxy. Due to the tests absence delete_image with tasks_api=True was not properly fixed.  Get constants from proper place and add corresponding test.  Change-Id: I64f29ade2da4740434f0812e8e514f0752510c71'), (775656, 'openstack%2Fopenstack-ansible~master~I7075be2b06e81e1008bd393cf0fc5619dad24e7e', 'https://review.opendev.org/659656', 'master', 7, 55, 2, 0, 2472, 2, 20, 1, 1656.8783333333333, 77, '', '', '', '', 'Update Ansible to 2.8.2, Ceph-Ansible to 4.0, Ceph to Nautilus', 'Update ansible to 2.8.0  Change-Id: I7075be2b06e81e1008bd393cf0fc5619dad24e7e'))\n",
      "2021-11-30 13:04:46,085 INFO sqlalchemy.engine.base.Engine COMMIT\n",
      "2021-11-30 13:04:49,795 INFO sqlalchemy.engine.base.Engine SELECT name FROM sqlite_master WHERE type='table' ORDER BY name\n",
      "2021-11-30 13:04:49,796 INFO sqlalchemy.engine.base.Engine ()\n"
     ]
    }
   ],
   "source": [
    "#putting results in a sqlite table\n",
    "engine = create_engine(DATABASE_URI, echo=True)\n",
    "sqlite_connection = engine.connect()\n",
    "df.to_sql(SQLITE_TABLE, sqlite_connection, if_exists= 'replace')\n",
    "sqlite_connection.close()"
   ]
  },
  {
   "cell_type": "code",
   "execution_count": null,
   "metadata": {},
   "outputs": [],
   "source": []
  }
 ],
 "metadata": {
  "colab": {
   "authorship_tag": "ABX9TyOs2TvdWogaVBTZ49pKCC5t",
   "mount_file_id": "1hBfu5GQS8w-jKRVXE8iCF4oHf_syi7LA",
   "name": "preliminary_analysis.ipynb",
   "provenance": []
  },
  "kernelspec": {
   "display_name": "Python 3",
   "language": "python",
   "name": "python3"
  },
  "language_info": {
   "codemirror_mode": {
    "name": "ipython",
    "version": 3
   },
   "file_extension": ".py",
   "mimetype": "text/x-python",
   "name": "python",
   "nbconvert_exporter": "python",
   "pygments_lexer": "ipython3",
   "version": "3.7.6"
  }
 },
 "nbformat": 4,
 "nbformat_minor": 1
}
